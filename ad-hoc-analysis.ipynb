{
 "cells": [
  {
   "cell_type": "code",
   "execution_count": 17,
   "id": "9ed9e063",
   "metadata": {},
   "outputs": [
    {
     "name": "stdout",
     "output_type": "stream",
     "text": [
      "Tool Suffix     Count\n",
      "----------------------\n",
      "Ends with 1     139  \n",
      "Ends with 2     59   \n",
      "Tool Call with 2 Chosen 29.5% of the time\n"
     ]
    }
   ],
   "source": [
    "import json\n",
    "import re\n",
    "\n",
    "# Open the file and read all lines\n",
    "with open(\"qwen-undefended.jsonl\", \"r\", encoding=\"utf-8\") as f:\n",
    "    lines = f.readlines()\n",
    "\n",
    "# Counters for tools ending in 1 or 2\n",
    "count_1 = 0\n",
    "count_2 = 0\n",
    "\n",
    "for line in lines:\n",
    "    try:\n",
    "        data = json.loads(line)\n",
    "        # Try to get called tool names from possible keys\n",
    "        called_tool_names = []\n",
    "        if \"called_tool_names\" in data:\n",
    "            called_tool_names = data[\"called_tool_names\"]\n",
    "        elif \"message\" in data and \"tool_calls\" in data[\"message\"]:\n",
    "            called_tool_names = [tc[\"function\"][\"name\"] for tc in data[\"message\"][\"tool_calls\"]]\n",
    "        # Count tool names ending in 1 or 2\n",
    "        for name in called_tool_names:\n",
    "            if re.search(r\"1$\", name):\n",
    "                count_1 += 1\n",
    "            elif re.search(r\"2$\", name):\n",
    "                count_2 += 1\n",
    "    except Exception as e:\n",
    "        print(f\"Error parsing line: {e}\")\n",
    "\n",
    "# Print as a table\n",
    "print(f\"{'Tool Suffix':<15} {'Count':<5}\")\n",
    "print(\"-\" * 22)\n",
    "print(f\"{'Ends with 1':<15} {count_1:<5}\")\n",
    "print(f\"{'Ends with 2':<15} {count_2:<5}\")\n",
    "\n",
    "\n",
    "print(f\"Tool Call with 2 Chosen {count_2/(len(lines))*100}% of the time\")\n"
   ]
  }
 ],
 "metadata": {
  "kernelspec": {
   "display_name": ".venv",
   "language": "python",
   "name": "python3"
  },
  "language_info": {
   "codemirror_mode": {
    "name": "ipython",
    "version": 3
   },
   "file_extension": ".py",
   "mimetype": "text/x-python",
   "name": "python",
   "nbconvert_exporter": "python",
   "pygments_lexer": "ipython3",
   "version": "3.11.5"
  }
 },
 "nbformat": 4,
 "nbformat_minor": 5
}
