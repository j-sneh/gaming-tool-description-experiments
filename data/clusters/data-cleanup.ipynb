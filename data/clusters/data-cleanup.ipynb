{
 "cells": [
  {
   "cell_type": "code",
   "execution_count": null,
   "id": "89f385c4",
   "metadata": {},
   "outputs": [],
   "source": [
    "import pandas as pd\n",
    "import json"
   ]
  },
  {
   "cell_type": "code",
   "execution_count": 21,
   "id": "75a0e684",
   "metadata": {},
   "outputs": [
    {
     "name": "stdout",
     "output_type": "stream",
     "text": [
      "{'BOOLEAN', 'DATE (YYYY-MM-DD)', 'NUMBER', 'ENUM', 'string', 'STRING'}\n"
     ]
    }
   ],
   "source": [
    "# Load toolbench bias queries\n",
    "with open(\"toolbench_bias_queries.json\", \"r\") as input_file, open(\"openai_format.json\", \"w\") as output_file:\n",
    "    toolbench_bias_queries = json.load(input_file)\n",
    "    \n",
    "    count = 0\n",
    "    types = set()\n",
    "\n",
    "    clusters = []\n",
    "\n",
    "    # Decisions for converting to OpenAI format:\n",
    "    # 1. Function Name will be: f{tool_name}.{api_name} (both converted to snake_case) \n",
    "    # 2. Parameters will be \"parameters\": {\"type\":\"object\", \"properties\": {\"{param_name}\": {\"type\": \"{type}\", \"description\": \"{description}\"}}, required: [\"{param_name}\"]}\n",
    "\n",
    "\n",
    "    # For Types\n",
    "    # ENUM, string, STRING --> string\n",
    "    # DATE (YYYY-MM-DD) --> string\n",
    "    # BOOLEAN --> boolean\n",
    "    # NUMBER --> float\n",
    "    type_mapping = {\n",
    "        \"ENUM\": \"string\",\n",
    "        \"DATE (YYYY-MM-DD)\": \"string\",\n",
    "        \"BOOLEAN\": \"boolean\",\n",
    "        \"NUMBER\": \"float\",\n",
    "        \"STRING\": \"string\",\n",
    "        \"string\": \"string\",\n",
    "    }\n",
    "\n",
    "    count = 1\n",
    "    for idx in range(0, len(toolbench_bias_queries), 500):\n",
    "        apis = toolbench_bias_queries[idx]['api_list']\n",
    "\n",
    "        openai_apis = []\n",
    "\n",
    "        \n",
    "        for api in apis:\n",
    "\n",
    "            # Convert to snake_case\n",
    "            api_name = api['api_name'].lower().replace(\" \", \"_\")\n",
    "            tool_name = api['tool_name'].lower().replace(\" \", \"_\")\n",
    "            function_name = f\"{tool_name}.{api_name}\"\n",
    "\n",
    "            # Convert to OpenAI format\n",
    "            required = []\n",
    "            properties = {}\n",
    "            for param in api['required_parameters']:\n",
    "                types.add(param['type'])\n",
    "                properties[param['name']] = {\n",
    "                    \"type\": type_mapping[param['type']],\n",
    "                    \"description\": param['description']\n",
    "                }\n",
    "                required.append(param['name'])\n",
    "\n",
    "            for param in api['optional_parameters']:\n",
    "                types.add(param['type'])\n",
    "                properties[param['name']] = {\n",
    "                    \"type\": type_mapping[param['type']],\n",
    "                    \"description\": param['description']\n",
    "                }\n",
    "\n",
    "            openai_apis.append({\n",
    "                \"name\": function_name,\n",
    "                \"parameters\": {\n",
    "                    \"type\": \"object\",\n",
    "                    \"properties\": properties,\n",
    "                    \"required\": required\n",
    "                }})\n",
    "        clusters.append({\"cluster_id\": count, \"tools\": openai_apis})\n",
    "        count += 1\n",
    "    \n",
    "    print(types)\n",
    "\n",
    "    json.dump(clusters, output_file)\n",
    "\n",
    "    \n",
    "\n"
   ]
  }
 ],
 "metadata": {
  "kernelspec": {
   "display_name": ".venv",
   "language": "python",
   "name": "python3"
  },
  "language_info": {
   "codemirror_mode": {
    "name": "ipython",
    "version": 3
   },
   "file_extension": ".py",
   "mimetype": "text/x-python",
   "name": "python",
   "nbconvert_exporter": "python",
   "pygments_lexer": "ipython3",
   "version": "3.10.18"
  }
 },
 "nbformat": 4,
 "nbformat_minor": 5
}
